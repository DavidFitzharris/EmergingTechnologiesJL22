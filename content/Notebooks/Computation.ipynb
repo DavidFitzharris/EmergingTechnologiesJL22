{
 "cells": [
  {
   "cell_type": "markdown",
   "id": "5758d826",
   "metadata": {},
   "source": [
    "<h1 style=\"color: rgb(0, 120, 60)\">Computation</h1>\n",
    "\n",
    "<hr style=\"border-top: 1px solid rgb(0, 120, 60)\" />"
   ]
  },
  {
   "cell_type": "markdown",
   "id": "2ebfeb78",
   "metadata": {},
   "source": [
    "<h2 style=\"color: rgb(0, 120, 60)\">Introduction</h2>\n",
    "<hr style=\"border-top: 1px dashed rgb(0, 120, 60)\" />\n",
    "\n",
    "<p>Computation involves the use of algorithms, data structures, programming languages etc., to manipulate data and produce results. Computation can be used for a variety of tasks, such as creating databases, analyzing data, performing calculations, creating simulations and more. <br><br> In this notebook I will look at the following topics:<p>\n",
    "    <ul>\n",
    "        <li>Big O Notation</li>\n",
    "        <li>Growth Rates</li>\n",
    "        <li>Turing Machine</li>\n",
    "    </ul>\n",
    "\n"
   ]
  },
  {
   "cell_type": "markdown",
   "id": "66576c2c",
   "metadata": {},
   "source": [
    "<h2 style=\"color: rgb(0, 120, 60)\">Big O Notation</h2>\n",
    "<hr style=\"border-top: 1px dashed rgb(0, 120, 60)\" />\n",
    "\n",
    "<p>Big O notation is a type of mathematical notation that expresses a functions complexity <br>\n",
    "It is frequently used to define an algorithm's complexity and to categorize algorithms based on how their space or running time needs increase as the size of the input increases.<br><br> To explain this we will look at some common functions used in Big-O notation and use graphs to show represent these visualy.</p>\n",
    "\n",
    "<ul>\n",
    "    <li>O(1) - Constant time </li>\n",
    "    <li>O(log(n)) - Logarithmic time</li>\n",
    "    <li>O(n log(n)) - Linearithmic time</li>\n",
    "    <li>O((log(n))^c) - Polylogarithmic time</li>\n",
    "    <li>O(n) - Linear time</li>\n",
    "    <li>O(n*2) - Quadratic time</li>\n",
    "    <li>O(n^c) - Polynomial time</li>\n",
    "    <li>O(c^n) - Exponential time</li>\n",
    "    <li>O(n!) - Factorial time</li>\n",
    "</ul>\n",
    "\n",
    "<i>where n = size of input and c = constant</i>\n",
    "\n",
    "<img src=\"BigOimage.png\" width=\"70%\">\n",
    "   \n"
   ]
  },
  {
   "cell_type": "markdown",
   "id": "b691cf75",
   "metadata": {},
   "source": [
    "<h2 style=\"color: rgb(0, 120, 60)\">Growth Rates</h2>\n",
    "<hr style=\"border-top: 1px dashed rgb(0, 120, 60)\" />\n",
    "\n",
    "<p>It is important in computation to understand what is meant by complexity. Understanding growth rates such as linear, polynomial and exponential growth are most important. Linear is , quite literally, straight forward while distinguising between polynomial growth and exponential growth takes more attention</p>\n",
    "<p>Below we will use tables and graphs to visualise and distinguise between the two.</p>\n",
    "<ul>\n",
    "    <li>O(n^c) - Polynomial time</li>\n",
    "    <li>O(c^n) - Exponential time</li>\n",
    "</ul>\n",
    "       \n",
    "\n",
    "    "
   ]
  },
  {
   "cell_type": "code",
   "execution_count": 19,
   "id": "6fa55203",
   "metadata": {},
   "outputs": [
    {
     "name": "stdout",
     "output_type": "stream",
     "text": [
      "╒═════╤═══════╤═══════╕\n",
      "│   X │   X^3 │   2^x │\n",
      "╞═════╪═══════╪═══════╡\n",
      "│   1 │     1 │     2 │\n",
      "├─────┼───────┼───────┤\n",
      "│   2 │     8 │     4 │\n",
      "├─────┼───────┼───────┤\n",
      "│   3 │    27 │     8 │\n",
      "├─────┼───────┼───────┤\n",
      "│   4 │    64 │    16 │\n",
      "├─────┼───────┼───────┤\n",
      "│   5 │   125 │    32 │\n",
      "├─────┼───────┼───────┤\n",
      "│   6 │   216 │    64 │\n",
      "├─────┼───────┼───────┤\n",
      "│   7 │   343 │   128 │\n",
      "├─────┼───────┼───────┤\n",
      "│   8 │   512 │   256 │\n",
      "├─────┼───────┼───────┤\n",
      "│   9 │   729 │   512 │\n",
      "├─────┼───────┼───────┤\n",
      "│  10 │  1000 │  1024 │\n",
      "╘═════╧═══════╧═══════╛\n"
     ]
    }
   ],
   "source": [
    "##for using tables\n",
    "from tabulate import tabulate\n",
    "\n",
    "## A table showing if x the input,\n",
    "## and output of polynomial and \n",
    "## exponential respectively\n",
    "table = [['X', 'X^3', '2^x'], \n",
    "         [1,1 ,2 ], \n",
    "         [2,8 ,4 ],\n",
    "         [3,27 ,8 ], \n",
    "         [4,64 ,16 ], \n",
    "         [5,125 ,32 ], \n",
    "         [6,216 ,64 ],\n",
    "         [7,343 ,128 ],\n",
    "         [8,512 ,256 ],\n",
    "         [9,729 ,512 ],\n",
    "         [10,1000 ,1024 ]]\n",
    "\n",
    "print(tabulate(table, headers='firstrow', tablefmt='fancy_grid'))"
   ]
  },
  {
   "cell_type": "markdown",
   "id": "91fe0b9a",
   "metadata": {},
   "source": [
    "<p>We can see from the table how the exponential grows more rapidly then polynomial, also shown in the graph below"
   ]
  },
  {
   "cell_type": "code",
   "execution_count": 18,
   "id": "518276fa",
   "metadata": {},
   "outputs": [
    {
     "data": {
      "image/png": "[encoded data removed]",
      "text/plain": [
       "<Figure size 864x432 with 1 Axes>"
      ]
     },
     "metadata": {
      "needs_background": "light"
     },
     "output_type": "display_data"
    }
   ],
   "source": [
    "# Numbers.\n",
    "import numpy as np\n",
    "\n",
    "# Plotting.\n",
    "import matplotlib.pyplot as plt\n",
    "\n",
    "# Create a figure.\n",
    "fig, ax = plt.subplots(figsize=(12, 6))\n",
    "\n",
    "# x values.\n",
    "x = np.linspace(0.0, 10.0, 1000)\n",
    "\n",
    "# Plot polynomial.\n",
    "ax.plot(x, x**3, label=\"$x^2$\")\n",
    "\n",
    "# Plot exponential.\n",
    "ax.plot(x, 2**x, label=\"$2^x$\")\n",
    "\n",
    "# Legend.\n",
    "ax.legend()\n",
    "\n",
    "# Show.\n",
    "plt.show();"
   ]
  },
  {
   "cell_type": "markdown",
   "id": "1db6f047",
   "metadata": {},
   "source": [
    "<h2 style=\"color: rgb(0, 120, 60)\">Touring</h2>\n",
    "<hr style=\"border-top: 1px dashed rgb(0, 120, 60)\" />"
   ]
  }
 ],
 "metadata": {
  "kernelspec": {
   "display_name": "Python 3 (ipykernel)",
   "language": "python",
   "name": "python3"
  },
  "language_info": {
   "codemirror_mode": {
    "name": "ipython",
    "version": 3
   },
   "file_extension": ".py",
   "mimetype": "text/x-python",
   "name": "python",
   "nbconvert_exporter": "python",
   "pygments_lexer": "ipython3",
   "version": "3.9.7"
  }
 },
 "nbformat": 4,
 "nbformat_minor": 5
}
